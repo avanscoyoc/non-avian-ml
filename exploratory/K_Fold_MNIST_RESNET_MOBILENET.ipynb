{
  "cells": [
    {
      "cell_type": "code",
      "execution_count": 1,
      "metadata": {
        "colab": {
          "base_uri": "https://localhost:8080/"
        },
        "id": "N8dSfy2hcC3M",
        "outputId": "b0b3313c-14ce-4970-d4a0-f5900bb96a90"
      },
      "outputs": [
        {
          "name": "stderr",
          "output_type": "stream",
          "text": [
            "100%|██████████| 9.91M/9.91M [00:00<00:00, 21.4MB/s]\n",
            "100%|██████████| 28.9k/28.9k [00:00<00:00, 503kB/s]\n",
            "100%|██████████| 1.65M/1.65M [00:00<00:00, 4.89MB/s]\n",
            "100%|██████████| 4.54k/4.54k [00:00<00:00, 3.16MB/s]\n",
            "/workspaces/non-avian-ml-toy/.pixi/envs/default/lib/python3.10/site-packages/torchvision/models/_utils.py:208: UserWarning: The parameter 'pretrained' is deprecated since 0.13 and may be removed in the future, please use 'weights' instead.\n",
            "  warnings.warn(\n",
            "/workspaces/non-avian-ml-toy/.pixi/envs/default/lib/python3.10/site-packages/torchvision/models/_utils.py:223: UserWarning: Arguments other than a weight enum or `None` for 'weights' are deprecated since 0.13 and may be removed in the future. The current behavior is equivalent to passing `weights=None`.\n",
            "  warnings.warn(msg)\n"
          ]
        },
        {
          "name": "stdout",
          "output_type": "stream",
          "text": [
            "\n",
            "Training ResNet with K-Fold...\n",
            "\n",
            "~~~ Fold 1 Training ~~~\n"
          ]
        },
        {
          "name": "stderr",
          "output_type": "stream",
          "text": [
            "Fold 1 Evaluation: 100%|██████████| 417/417 [00:54<00:00,  7.69it/s]\n"
          ]
        },
        {
          "name": "stdout",
          "output_type": "stream",
          "text": [
            "Fold 1 Accuracy: 10.50%\n",
            "\n",
            "~~~ Fold 2 Training ~~~\n"
          ]
        },
        {
          "name": "stderr",
          "output_type": "stream",
          "text": [
            "Fold 2 Evaluation: 100%|██████████| 417/417 [00:50<00:00,  8.26it/s]\n"
          ]
        },
        {
          "name": "stdout",
          "output_type": "stream",
          "text": [
            "Fold 2 Accuracy: 10.50%\n",
            "\n",
            "~~~ Fold 3 Training ~~~\n"
          ]
        },
        {
          "name": "stderr",
          "output_type": "stream",
          "text": [
            "Fold 3 Evaluation: 100%|██████████| 417/417 [00:49<00:00,  8.44it/s]\n"
          ]
        },
        {
          "name": "stdout",
          "output_type": "stream",
          "text": [
            "Fold 3 Accuracy: 10.62%\n",
            "\n",
            "Mean Accuracy Across Folds: 10.54%\n",
            "\n",
            "Training MobileNet with K-Fold...\n",
            "\n",
            "~~~ Fold 1 Training ~~~\n"
          ]
        },
        {
          "name": "stderr",
          "output_type": "stream",
          "text": [
            "Fold 1 Evaluation: 100%|██████████| 417/417 [00:17<00:00, 24.07it/s]\n"
          ]
        },
        {
          "name": "stdout",
          "output_type": "stream",
          "text": [
            "Fold 1 Accuracy: 9.21%\n",
            "\n",
            "~~~ Fold 2 Training ~~~\n"
          ]
        },
        {
          "name": "stderr",
          "output_type": "stream",
          "text": [
            "Fold 2 Evaluation: 100%|██████████| 417/417 [00:17<00:00, 23.56it/s]\n"
          ]
        },
        {
          "name": "stdout",
          "output_type": "stream",
          "text": [
            "Fold 2 Accuracy: 9.21%\n",
            "\n",
            "~~~ Fold 3 Training ~~~\n"
          ]
        },
        {
          "name": "stderr",
          "output_type": "stream",
          "text": [
            "Fold 3 Evaluation: 100%|██████████| 417/417 [00:17<00:00, 23.39it/s]\n"
          ]
        },
        {
          "name": "stdout",
          "output_type": "stream",
          "text": [
            "Fold 3 Accuracy: 8.79%\n",
            "\n",
            "Mean Accuracy Across Folds: 9.07%\n"
          ]
        },
        {
          "data": {
            "image/png": "[encoded data removed]",
            "text/plain": [
              "<Figure size 640x480 with 1 Axes>"
            ]
          },
          "metadata": {},
          "output_type": "display_data"
        }
      ],
      "source": [
        "#super low accuracy -- need teammates' input\n",
        "import torch\n",
        "import torch.nn as nn\n",
        "import torch.optim as optim\n",
        "import torchvision.transforms as transforms\n",
        "import torchvision.datasets as datasets\n",
        "from torch.utils.data import DataLoader, Subset\n",
        "import torchvision.models as models\n",
        "from sklearn.model_selection import KFold\n",
        "import numpy as np\n",
        "import random\n",
        "from tqdm import tqdm  # Import tqdm for progress bars\n",
        "\n",
        "# Check if GPU is available\n",
        "device = torch.device(\"cuda\" if torch.cuda.is_available() else \"cpu\")\n",
        "\n",
        "# Reduce Image Size for MNIST\n",
        "transform = transforms.Compose([\n",
        "    transforms.Resize((112, 112)),  # Smaller than 224x224\n",
        "    transforms.ToTensor(),\n",
        "    transforms.Normalize((0.1307,), (0.3081,))\n",
        "])\n",
        "\n",
        "# Load MNIST (Using only 10,000 images instead of full 60,000)\n",
        "full_dataset = datasets.MNIST(root=\"./data\", train=True, transform=transform, download=True)\n",
        "subset_indices = random.sample(range(len(full_dataset)), 10000)  # Pick 10,000 random samples\n",
        "dataset = Subset(full_dataset, subset_indices)\n",
        "\n",
        "test_dataset = datasets.MNIST(root=\"./data\", train=False, transform=transform, download=True)\n",
        "\n",
        "# Load Models\n",
        "def get_resnet():\n",
        "    resnet = models.resnet18(pretrained=False)\n",
        "    resnet.conv1 = nn.Conv2d(1, 64, kernel_size=7, stride=2, padding=3, bias=False)\n",
        "    resnet.fc = nn.Linear(resnet.fc.in_features, 10)\n",
        "    return resnet.to(device)\n",
        "\n",
        "def get_mobilenet():\n",
        "    mobilenet = models.mobilenet_v2(pretrained=False)\n",
        "    mobilenet.features[0][0] = nn.Conv2d(1, 32, kernel_size=3, stride=2, padding=1, bias=False)\n",
        "    mobilenet.classifier[1] = nn.Linear(mobilenet.classifier[1].in_features, 10)\n",
        "    return mobilenet.to(device)\n",
        "\n",
        "# K-Fold Cross Validation (With Smaller Batch Size)\n",
        "def k_fold_train(model, dataset, n_splits=3, batch_size=8, epochs=0.5):  # Reduced epochs\n",
        "    kfold = KFold(n_splits=n_splits, shuffle=True, random_state=42)\n",
        "    criterion = nn.CrossEntropyLoss()\n",
        "    optimizer = optim.Adam(model.parameters(), lr=0.001)\n",
        "\n",
        "    fold_accuracies = []\n",
        "\n",
        "    for fold, (train_idx, test_idx) in enumerate(kfold.split(dataset)):\n",
        "        print(f\"\\n~~~ Fold {fold + 1} Training ~~~\")\n",
        "\n",
        "        train_loader = DataLoader(Subset(dataset, train_idx), batch_size=batch_size, shuffle=True)\n",
        "        test_loader = DataLoader(Subset(dataset, test_idx), batch_size=batch_size, shuffle=False)\n",
        "\n",
        "        # Training Loop\n",
        "        model.train()\n",
        "        for epoch in range(int(epochs)):  # Convert float to int for the number of epochs\n",
        "            for images, labels in tqdm(train_loader, desc=f\"Epoch {epoch+1}/{int(epochs)}\"):\n",
        "                images, labels = images.to(device), labels.to(device)\n",
        "                optimizer.zero_grad()\n",
        "                outputs = model(images)\n",
        "                loss = criterion(outputs, labels)\n",
        "                loss.backward()\n",
        "                optimizer.step()\n",
        "\n",
        "        # Evaluation Loop (without gradient calculation)\n",
        "        model.eval()\n",
        "        correct, total = 0, 0\n",
        "        with torch.no_grad():\n",
        "            for images, labels in tqdm(test_loader, desc=f\"Fold {fold+1} Evaluation\"):\n",
        "                images, labels = images.to(device), labels.to(device)\n",
        "                outputs = model(images)\n",
        "                _, predicted = torch.max(outputs, 1)\n",
        "                correct += (predicted == labels).sum().item()\n",
        "                total += labels.size(0)\n",
        "\n",
        "        accuracy = 100 * correct / total\n",
        "        fold_accuracies.append(accuracy)\n",
        "        print(f\"Fold {fold + 1} Accuracy: {accuracy:.2f}%\")\n",
        "\n",
        "    print(f\"\\nMean Accuracy Across Folds: {np.mean(fold_accuracies):.2f}%\")\n",
        "\n",
        "# Train ResNet & MobileNet\n",
        "resnet = get_resnet()\n",
        "print(\"\\nTraining ResNet with K-Fold...\")\n",
        "k_fold_train(resnet, dataset)\n",
        "\n",
        "mobilenet = get_mobilenet()\n",
        "print(\"\\nTraining MobileNet with K-Fold...\")\n",
        "k_fold_train(mobilenet, dataset)\n",
        "\n",
        "# Save models\n",
        "torch.save(resnet.state_dict(), \"resnet_mnist_kfold.pth\")\n",
        "torch.save(mobilenet.state_dict(), \"mobilenet_mnist_kfold.pth\")\n",
        "\n",
        "# Test on a Single Image\n",
        "image, label = test_dataset[0]\n",
        "image = image.unsqueeze(0).to(device)\n",
        "\n",
        "predicted_class_resnet = resnet(image).argmax(1).item()\n",
        "predicted_class_mobilenet = mobilenet(image).argmax(1).item()\n",
        "\n",
        "import matplotlib.pyplot as plt\n",
        "plt.imshow(image.cpu().squeeze(), cmap=\"gray\")\n",
        "plt.title(f\"ResNet: {predicted_class_resnet}, MobileNet: {predicted_class_mobilenet}, Actual: {label}\")\n",
        "plt.show()\n"
      ]
    }
  ],
  "metadata": {
    "colab": {
      "provenance": []
    },
    "kernelspec": {
      "display_name": "Python 3",
      "name": "python3"
    },
    "language_info": {
      "codemirror_mode": {
        "name": "ipython",
        "version": 3
      },
      "file_extension": ".py",
      "mimetype": "text/x-python",
      "name": "python",
      "nbconvert_exporter": "python",
      "pygments_lexer": "ipython3",
      "version": "3.10.0"
    }
  },
  "nbformat": 4,
  "nbformat_minor": 0
}
